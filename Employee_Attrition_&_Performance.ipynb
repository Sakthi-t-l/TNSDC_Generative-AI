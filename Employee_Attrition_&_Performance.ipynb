{
  "metadata": {
    "kernelspec": {
      "language": "python",
      "display_name": "Python 3",
      "name": "python3"
    },
    "language_info": {
      "pygments_lexer": "ipython3",
      "nbconvert_exporter": "python",
      "version": "3.6.4",
      "file_extension": ".py",
      "codemirror_mode": {
        "name": "ipython",
        "version": 3
      },
      "name": "python",
      "mimetype": "text/x-python"
    },
    "colab": {
      "name": "IBM HR Analytics💼Employee Attrition & Performance",
      "provenance": []
    }
  },
  "nbformat_minor": 0,
  "nbformat": 4,
  "cells": [
    {
      "source": [
        "\n",
        "# IMPORTANT: RUN THIS CELL IN ORDER TO IMPORT YOUR KAGGLE DATA SOURCES\n",
        "# TO THE CORRECT LOCATION (/kaggle/input) IN YOUR NOTEBOOK,\n",
        "# THEN FEEL FREE TO DELETE THIS CELL.\n",
        "# NOTE: THIS NOTEBOOK ENVIRONMENT DIFFERS FROM KAGGLE'S PYTHON\n",
        "# ENVIRONMENT SO THERE MAY BE MISSING LIBRARIES USED BY YOUR\n",
        "# NOTEBOOK.\n",
        "\n",
        "import os\n",
        "import sys\n",
        "from tempfile import NamedTemporaryFile\n",
        "from urllib.request import urlopen\n",
        "from urllib.parse import unquote, urlparse\n",
        "from urllib.error import HTTPError\n",
        "from zipfile import ZipFile\n",
        "import tarfile\n",
        "import shutil\n",
        "\n",
        "CHUNK_SIZE = 40960\n",
        "DATA_SOURCE_MAPPING = 'ibm-hr-analytics-attrition-dataset:https%3A%2F%2Fstorage.googleapis.com%2Fkaggle-data-sets%2F1067%2F1925%2Fbundle%2Farchive.zip%3FX-Goog-Algorithm%3DGOOG4-RSA-SHA256%26X-Goog-Credential%3Dgcp-kaggle-com%2540kaggle-161607.iam.gserviceaccount.com%252F20240402%252Fauto%252Fstorage%252Fgoog4_request%26X-Goog-Date%3D20240402T163453Z%26X-Goog-Expires%3D259200%26X-Goog-SignedHeaders%3Dhost%26X-Goog-Signature%3D07821117decaac994daec9cf6588ddde761b2eba3e3ad9b3250039b0279e858dd2ea07aba199487a07c9870fbb6414afeb73dd93e0358e3e09b7ea7c4144ee1faa602372f58505654a7dca8142cae921634b69652be4a793ffd3f37e44bf288a0ea966ff75d04a0433cffa7ab4a7e45cbd40730110591ea2f678a5d674ae94ac37687a33281fd3f5f56d307261740530c3cee7d9379a0cf2359787618a3fabede49f8d36ad4c1834ca5d414660d804b9810ce3651c4ad7774687dc0c00749b0d5812046d99f9d641513d59e3f06ac7f2c0065776fea6e64b0e01a4cc913a67fc97e9c104a5443a239731b3ae6863c75429e51337839d7a1552c587e957b3894d'\n",
        "\n",
        "KAGGLE_INPUT_PATH='/kaggle/input'\n",
        "KAGGLE_WORKING_PATH='/kaggle/working'\n",
        "KAGGLE_SYMLINK='kaggle'\n",
        "\n",
        "!umount /kaggle/input/ 2> /dev/null\n",
        "shutil.rmtree('/kaggle/input', ignore_errors=True)\n",
        "os.makedirs(KAGGLE_INPUT_PATH, 0o777, exist_ok=True)\n",
        "os.makedirs(KAGGLE_WORKING_PATH, 0o777, exist_ok=True)\n",
        "\n",
        "try:\n",
        "  os.symlink(KAGGLE_INPUT_PATH, os.path.join(\"..\", 'input'), target_is_directory=True)\n",
        "except FileExistsError:\n",
        "  pass\n",
        "try:\n",
        "  os.symlink(KAGGLE_WORKING_PATH, os.path.join(\"..\", 'working'), target_is_directory=True)\n",
        "except FileExistsError:\n",
        "  pass\n",
        "\n",
        "for data_source_mapping in DATA_SOURCE_MAPPING.split(','):\n",
        "    directory, download_url_encoded = data_source_mapping.split(':')\n",
        "    download_url = unquote(download_url_encoded)\n",
        "    filename = urlparse(download_url).path\n",
        "    destination_path = os.path.join(KAGGLE_INPUT_PATH, directory)\n",
        "    try:\n",
        "        with urlopen(download_url) as fileres, NamedTemporaryFile() as tfile:\n",
        "            total_length = fileres.headers['content-length']\n",
        "            print(f'Downloading {directory}, {total_length} bytes compressed')\n",
        "            dl = 0\n",
        "            data = fileres.read(CHUNK_SIZE)\n",
        "            while len(data) > 0:\n",
        "                dl += len(data)\n",
        "                tfile.write(data)\n",
        "                done = int(50 * dl / int(total_length))\n",
        "                sys.stdout.write(f\"\\r[{'=' * done}{' ' * (50-done)}] {dl} bytes downloaded\")\n",
        "                sys.stdout.flush()\n",
        "                data = fileres.read(CHUNK_SIZE)\n",
        "            if filename.endswith('.zip'):\n",
        "              with ZipFile(tfile) as zfile:\n",
        "                zfile.extractall(destination_path)\n",
        "            else:\n",
        "              with tarfile.open(tfile.name) as tarfile:\n",
        "                tarfile.extractall(destination_path)\n",
        "            print(f'\\nDownloaded and uncompressed: {directory}')\n",
        "    except HTTPError as e:\n",
        "        print(f'Failed to load (likely expired) {download_url} to path {destination_path}')\n",
        "        continue\n",
        "    except OSError as e:\n",
        "        print(f'Failed to load {download_url} to path {destination_path}')\n",
        "        continue\n",
        "\n",
        "print('Data source import complete.')\n"
      ],
      "metadata": {
        "id": "tL1ydQD-qes1"
      },
      "cell_type": "code",
      "outputs": [],
      "execution_count": null
    },
    {
      "cell_type": "markdown",
      "source": [
        "---\n",
        "# 💼 Attrition in an Organization || Why Workers Quit?\n",
        "\n",
        "---\n",
        "\n",
        "Employees are the backbone of the organization. Organization's performance is heavily based on the quality of the employees. Challenges that an organization has to face due employee attrition are:\n",
        "\n",
        "> 1. Expensive in terms of both money and time to train new employees.\n",
        "> 1. Loss of experienced employees\n",
        "> 1. Impact in productivity\n",
        "> 1. Impact profit\n",
        "\n",
        "Before getting our hands dirty with the data, first step is to frame the business question. Having clarity on below questions is very crucial because the solution that is being developed will make sense only if we have well stated problem.\n",
        "\n",
        "------\n",
        "## 📌 Business questions to brainstorm:\n",
        "---\n",
        "> 1. What factors are contributing more to employee attrition?\n",
        "> 1. What type of measures should the company take in order to retain their employees?\n",
        "> 1. What business value does the model bring?\n",
        "> 1. Will the model save lots of money?\n",
        "> 1. Which business unit faces the attrition problem?"
      ],
      "metadata": {
        "id": "uZF1Qh-Bqes5"
      }
    },
    {
      "cell_type": "code",
      "source": [
        "!pip install -q hvplot"
      ],
      "metadata": {
        "_kg_hide-output": true,
        "_kg_hide-input": true,
        "execution": {
          "iopub.status.busy": "2023-02-01T13:52:02.351869Z",
          "iopub.execute_input": "2023-02-01T13:52:02.352959Z"
        },
        "trusted": true,
        "id": "V3OSQcqrqes7"
      },
      "execution_count": null,
      "outputs": []
    },
    {
      "cell_type": "code",
      "source": [
        "import hvplot"
      ],
      "metadata": {
        "trusted": true,
        "id": "dbKhYom8qes7"
      },
      "execution_count": null,
      "outputs": []
    },
    {
      "cell_type": "code",
      "source": [
        "import pandas as pd\n",
        "import numpy as np\n",
        "import matplotlib.pyplot as plt\n",
        "import seaborn as sns\n",
        "import hvplot.pandas\n",
        "\n",
        "%matplotlib inline\n",
        "sns.set_style(\"whitegrid\")\n",
        "plt.style.use(\"fivethirtyeight\")\n",
        "\n",
        "pd.set_option(\"display.float_format\", \"{:.2f}\".format)\n",
        "pd.set_option(\"display.max_columns\", 80)\n",
        "pd.set_option(\"display.max_rows\", 80)"
      ],
      "metadata": {
        "trusted": true,
        "id": "rIKI5JvAqes8"
      },
      "execution_count": null,
      "outputs": []
    },
    {
      "cell_type": "code",
      "source": [
        "df = pd.read_csv(\"/kaggle/input/ibm-hr-analytics-attrition-dataset/WA_Fn-UseC_-HR-Employee-Attrition.csv\")\n",
        "df.head()"
      ],
      "metadata": {
        "trusted": true,
        "id": "s-2TS2sQqes8"
      },
      "execution_count": null,
      "outputs": []
    },
    {
      "cell_type": "markdown",
      "source": [
        "---\n",
        "# 📊 Exploratory Data Analysis\n",
        "\n",
        "- Find patterns in data through data visualization. Reveal hidden secrets of the data through graphs, analysis and charts.\n",
        "    - Univariate analysis\n",
        "        > - Continous variables : Histograms, boxplots. This gives us understanding about the central tendency and spread\n",
        "        > - Categorical variable : Bar chart showing frequency in each category\n",
        "    - Bivariate analysis\n",
        "        > - Continous & Continous : Scatter plots to know how continous variables interact with each other\n",
        "        > - Categorical & categorical : Stacked column chart to show how the frequencies are spread between two\n",
        "        > - categorical variables\n",
        "        > - Categorical & Continous : Boxplots, Swamplots or even bar charts\n",
        "- Detect outliers\n",
        "- Feature engineering"
      ],
      "metadata": {
        "id": "Ra8fpbyqqes8"
      }
    },
    {
      "cell_type": "code",
      "source": [
        "df.info()"
      ],
      "metadata": {
        "_kg_hide-output": true,
        "trusted": true,
        "id": "BUEvmFOFqes9"
      },
      "execution_count": null,
      "outputs": []
    },
    {
      "cell_type": "code",
      "source": [
        "df.describe()"
      ],
      "metadata": {
        "trusted": true,
        "id": "MglL6X-iqes9"
      },
      "execution_count": null,
      "outputs": []
    },
    {
      "cell_type": "code",
      "source": [
        "for column in df.columns:\n",
        "    print(f\"{column}: Number of unique values {df[column].nunique()}\")\n",
        "    print(\"==========================================================\")"
      ],
      "metadata": {
        "_kg_hide-output": true,
        "trusted": true,
        "id": "BbTQ-aGnqes9"
      },
      "execution_count": null,
      "outputs": []
    },
    {
      "cell_type": "markdown",
      "source": [
        "We notice that '`EmployeeCount`', '`Over18`', '`StandardHours`' have only one unique values and '`EmployeeNumber`' has `1470` unique values.\n",
        "This features aren't useful for us, So we are going to drop those columns."
      ],
      "metadata": {
        "id": "tAsgN9iRqes-"
      }
    },
    {
      "cell_type": "code",
      "source": [
        "df.drop(['EmployeeCount', 'EmployeeNumber', 'Over18', 'StandardHours'], axis=\"columns\", inplace=True)"
      ],
      "metadata": {
        "trusted": true,
        "id": "VgmYKXIxqes-"
      },
      "execution_count": null,
      "outputs": []
    },
    {
      "cell_type": "markdown",
      "source": [
        "---\n",
        "## 📉 Categorical Features"
      ],
      "metadata": {
        "id": "DUzJwr6Sqes-"
      }
    },
    {
      "cell_type": "code",
      "source": [
        "object_col = []\n",
        "for column in df.columns:\n",
        "    if df[column].dtype == object and len(df[column].unique()) <= 30:\n",
        "        object_col.append(column)\n",
        "        print(f\"{column} : {df[column].unique()}\")\n",
        "        print(df[column].value_counts())\n",
        "        print(\"====================================\")\n",
        "object_col.remove('Attrition')"
      ],
      "metadata": {
        "_kg_hide-input": false,
        "_kg_hide-output": true,
        "trusted": true,
        "id": "eWVW7cLtqes-"
      },
      "execution_count": null,
      "outputs": []
    },
    {
      "cell_type": "code",
      "source": [
        "len(object_col)"
      ],
      "metadata": {
        "trusted": true,
        "id": "hYtP4m9Qqes_"
      },
      "execution_count": null,
      "outputs": []
    },
    {
      "cell_type": "code",
      "source": [
        "from sklearn.preprocessing import LabelEncoder\n",
        "\n",
        "label = LabelEncoder()\n",
        "df[\"Attrition\"] = label.fit_transform(df.Attrition)"
      ],
      "metadata": {
        "trusted": true,
        "id": "NSsvjPQFqes_"
      },
      "execution_count": null,
      "outputs": []
    },
    {
      "cell_type": "markdown",
      "source": [
        "---\n",
        "## 📉 Numerical Features"
      ],
      "metadata": {
        "id": "IyCVHHffqes_"
      }
    },
    {
      "cell_type": "code",
      "source": [
        "disc_col = []\n",
        "for column in df.columns:\n",
        "    if df[column].dtypes != object and df[column].nunique() < 30:\n",
        "        print(f\"{column} : {df[column].unique()}\")\n",
        "        disc_col.append(column)\n",
        "        print(\"====================================\")\n",
        "disc_col.remove('Attrition')"
      ],
      "metadata": {
        "trusted": true,
        "id": "sEA-Nfuuqes_"
      },
      "execution_count": null,
      "outputs": []
    },
    {
      "cell_type": "code",
      "source": [
        "cont_col = []\n",
        "for column in df.columns:\n",
        "    if df[column].dtypes != object and df[column].nunique() > 30:\n",
        "        print(f\"{column} : Minimum: {df[column].min()}, Maximum: {df[column].max()}\")\n",
        "        cont_col.append(column)\n",
        "        print(\"====================================\")"
      ],
      "metadata": {
        "trusted": true,
        "id": "AtD637YjqetA"
      },
      "execution_count": null,
      "outputs": []
    },
    {
      "cell_type": "markdown",
      "source": [
        "---\n",
        "## 📉 Data Visualisation"
      ],
      "metadata": {
        "id": "ffMFxNabqetA"
      }
    },
    {
      "cell_type": "code",
      "source": [
        "df.hvplot.hist(y='DistanceFromHome', by='Attrition', subplots=False, width=600, height=300, bins=30)"
      ],
      "metadata": {
        "_kg_hide-input": true,
        "trusted": true,
        "id": "CTozV31tqetA"
      },
      "execution_count": null,
      "outputs": []
    },
    {
      "cell_type": "code",
      "source": [
        "df.hvplot.hist(y='Education', by='Attrition', subplots=False, width=600, height=300)"
      ],
      "metadata": {
        "_kg_hide-input": true,
        "trusted": true,
        "id": "VlxMbmrzqetA"
      },
      "execution_count": null,
      "outputs": []
    },
    {
      "cell_type": "code",
      "source": [
        "df.hvplot.hist(y='RelationshipSatisfaction', by='Attrition', subplots=False, width=600, height=300)"
      ],
      "metadata": {
        "_kg_hide-input": true,
        "trusted": true,
        "id": "76RB-t0-qetA"
      },
      "execution_count": null,
      "outputs": []
    },
    {
      "cell_type": "code",
      "source": [
        "df.hvplot.hist(y='EnvironmentSatisfaction', by='Attrition', subplots=False, width=600, height=300)"
      ],
      "metadata": {
        "_kg_hide-input": true,
        "trusted": true,
        "id": "Pd2-nfuKqetA"
      },
      "execution_count": null,
      "outputs": []
    },
    {
      "cell_type": "code",
      "source": [
        "df.hvplot.hist(y='JobInvolvement', by='Attrition', subplots=False, width=600, height=300)"
      ],
      "metadata": {
        "_kg_hide-input": false,
        "trusted": true,
        "id": "HmwGV7CHqetA"
      },
      "execution_count": null,
      "outputs": []
    },
    {
      "cell_type": "code",
      "source": [
        "df.hvplot.hist(y='JobLevel', by='Attrition', subplots=False, width=600, height=300)"
      ],
      "metadata": {
        "_kg_hide-input": true,
        "trusted": true,
        "id": "uqeNs5EzqetB"
      },
      "execution_count": null,
      "outputs": []
    },
    {
      "cell_type": "code",
      "source": [
        "df.hvplot.hist(y='JobSatisfaction', by='Attrition', subplots=False, width=600, height=300)"
      ],
      "metadata": {
        "_kg_hide-input": true,
        "trusted": true,
        "id": "vOU9Z-o6qetB"
      },
      "execution_count": null,
      "outputs": []
    },
    {
      "cell_type": "code",
      "source": [
        "df.hvplot.hist(y='NumCompaniesWorked', by='Attrition', subplots=False, width=600, height=300)"
      ],
      "metadata": {
        "_kg_hide-input": true,
        "trusted": true,
        "id": "YNH0Nmu2qetB"
      },
      "execution_count": null,
      "outputs": []
    },
    {
      "cell_type": "code",
      "source": [
        "df.hvplot.hist(y='PercentSalaryHike', by='Attrition', subplots=False, width=600, height=300)"
      ],
      "metadata": {
        "_kg_hide-input": true,
        "trusted": true,
        "id": "VeeG5dLdqetB"
      },
      "execution_count": null,
      "outputs": []
    },
    {
      "cell_type": "code",
      "source": [
        "df.hvplot.hist(y='StockOptionLevel', by='Attrition', subplots=False, width=600, height=300)"
      ],
      "metadata": {
        "_kg_hide-input": true,
        "trusted": true,
        "id": "3RTh9_NnqetB"
      },
      "execution_count": null,
      "outputs": []
    },
    {
      "cell_type": "code",
      "source": [
        "df.hvplot.hist(y='TrainingTimesLastYear', by='Attrition', subplots=False, width=600, height=300)"
      ],
      "metadata": {
        "_kg_hide-input": true,
        "trusted": true,
        "id": "Ii2ORe32qetB"
      },
      "execution_count": null,
      "outputs": []
    },
    {
      "cell_type": "markdown",
      "source": [
        "## 📌 Note\n",
        "\n",
        "It seems that `EnvironmentSatisfaction`, `JobSatisfaction`, `PerformanceRating`, and `RelationshipSatisfaction` features don't have big impact on the detrmination of `Attrition` of employees."
      ],
      "metadata": {
        "id": "VPWtrA_hqetB"
      }
    },
    {
      "cell_type": "code",
      "source": [
        "df.hvplot.hist(y='Age', by='Attrition', subplots=False, width=600, height=300, bins=35)"
      ],
      "metadata": {
        "_kg_hide-input": true,
        "trusted": true,
        "id": "E3XeIR3qqetC"
      },
      "execution_count": null,
      "outputs": []
    },
    {
      "cell_type": "code",
      "source": [
        "df.hvplot.hist(y='MonthlyIncome', by='Attrition', subplots=False, width=600, height=300, bins=50)"
      ],
      "metadata": {
        "_kg_hide-input": true,
        "trusted": true,
        "id": "pwn17Eh7qetC"
      },
      "execution_count": null,
      "outputs": []
    },
    {
      "cell_type": "code",
      "source": [
        "df.hvplot.hist(y='YearsAtCompany', by='Attrition', subplots=False, width=600, height=300, bins=35)"
      ],
      "metadata": {
        "_kg_hide-input": true,
        "trusted": true,
        "id": "AjPnb1NmqetC"
      },
      "execution_count": null,
      "outputs": []
    },
    {
      "cell_type": "code",
      "source": [
        "df.hvplot.hist(y='TotalWorkingYears', by='Attrition', subplots=False, width=600, height=300, bins=35)"
      ],
      "metadata": {
        "_kg_hide-input": true,
        "trusted": true,
        "id": "afzGWVYyqetC"
      },
      "execution_count": null,
      "outputs": []
    },
    {
      "cell_type": "markdown",
      "source": [
        "***\n",
        "\n",
        "## 📝 **Conclusions:**\n",
        "\n",
        "***\n",
        "- The workers with low `JobLevel`, `MonthlyIncome`, `YearAtCompany`, and `TotalWorkingYears` are more likely to quit there jobs.\n",
        "- `BusinessTravel` : The workers who travel alot are more likely to quit then other employees.\n",
        "\n",
        "- `Department` : The worker in `Research & Development` are more likely to stay then the workers on other departement.\n",
        "\n",
        "- `EducationField` : The workers with `Human Resources` and `Technical Degree` are more likely to quit then employees from other fields of educations.\n",
        "\n",
        "- `Gender` : The `Male` are more likely to quit.\n",
        "\n",
        "- `JobRole` : The workers in `Laboratory Technician`, `Sales Representative`, and `Human Resources` are more likely to quit the workers in other positions.\n",
        "\n",
        "- `MaritalStatus` : The workers who have `Single` marital status are more likely to quit the `Married`, and `Divorced`.\n",
        "\n",
        "- `OverTime` : The workers who work more hours are likely to quit then others.\n",
        "\n",
        "***"
      ],
      "metadata": {
        "id": "eIUkFgtzqetD"
      }
    },
    {
      "cell_type": "markdown",
      "source": [
        "---\n",
        "# 📉 Correlation Matrix"
      ],
      "metadata": {
        "id": "ltg2GSv3qetD"
      }
    },
    {
      "cell_type": "code",
      "source": [
        "plt.figure(figsize=(30, 30))\n",
        "sns.heatmap(df.corr(), annot=True, cmap=\"RdYlGn\", annot_kws={\"size\":15})"
      ],
      "metadata": {
        "trusted": true,
        "id": "ET68ibN-qetD"
      },
      "execution_count": null,
      "outputs": []
    },
    {
      "cell_type": "code",
      "source": [
        "col = df.corr().nlargest(20, \"Attrition\").Attrition.index\n",
        "plt.figure(figsize=(15, 15))\n",
        "sns.heatmap(df[col].corr(), annot=True, cmap=\"RdYlGn\", annot_kws={\"size\":10})"
      ],
      "metadata": {
        "trusted": true,
        "id": "iDUIiyWSqetG"
      },
      "execution_count": null,
      "outputs": []
    },
    {
      "cell_type": "code",
      "source": [
        "df.drop('Attrition', axis=1).corrwith(df.Attrition).hvplot.barh()"
      ],
      "metadata": {
        "trusted": true,
        "id": "_yDW-ELlqetH"
      },
      "execution_count": null,
      "outputs": []
    },
    {
      "cell_type": "markdown",
      "source": [
        "## 📝 **Analysis of correlation results (sample analysis):**\n",
        "- Monthly income is highly correlated with Job level.\n",
        "- Job level is highly correlated with total working hours.\n",
        "- Monthly income is highly correlated with total working hours.\n",
        "- Age is also positively correlated with the Total working hours.\n",
        "- Marital status and stock option level are negatively correlated"
      ],
      "metadata": {
        "id": "otWbQMEVqetH"
      }
    },
    {
      "cell_type": "markdown",
      "source": [
        "---\n",
        "# 🔨 Data Processing"
      ],
      "metadata": {
        "id": "6ghyHr3rqetH"
      }
    },
    {
      "cell_type": "code",
      "source": [
        "# Transform categorical data into dummies\n",
        "dummy_col = [column for column in df.drop('Attrition', axis=1).columns if df[column].nunique() < 20]\n",
        "data = pd.get_dummies(df, columns=dummy_col, drop_first=True, dtype='uint8')\n",
        "data.info()"
      ],
      "metadata": {
        "trusted": true,
        "id": "-1SffKh2qetH"
      },
      "execution_count": null,
      "outputs": []
    },
    {
      "cell_type": "code",
      "source": [
        "print(data.shape)\n",
        "\n",
        "# Remove duplicate Features\n",
        "data = data.T.drop_duplicates()\n",
        "data = data.T\n",
        "\n",
        "# Remove Duplicate Rows\n",
        "data.drop_duplicates(inplace=True)\n",
        "\n",
        "print(data.shape)"
      ],
      "metadata": {
        "trusted": true,
        "id": "jUmiUelXqetH"
      },
      "execution_count": null,
      "outputs": []
    },
    {
      "cell_type": "code",
      "source": [
        "data.shape"
      ],
      "metadata": {
        "trusted": true,
        "id": "Nkfq9yZXqetH"
      },
      "execution_count": null,
      "outputs": []
    },
    {
      "cell_type": "code",
      "source": [
        "data.drop('Attrition', axis=1).corrwith(data.Attrition).sort_values().plot(kind='barh', figsize=(10, 30))"
      ],
      "metadata": {
        "trusted": true,
        "id": "85uFAd0TqetH"
      },
      "execution_count": null,
      "outputs": []
    },
    {
      "cell_type": "code",
      "source": [
        "feature_correlation = data.drop('Attrition', axis=1).corrwith(data.Attrition).sort_values()\n",
        "model_col = feature_correlation[np.abs(feature_correlation) > 0.02].index\n",
        "len(model_col)"
      ],
      "metadata": {
        "trusted": true,
        "id": "zB3mc_MlqetH"
      },
      "execution_count": null,
      "outputs": []
    },
    {
      "cell_type": "markdown",
      "source": [
        "# 🤖 Applying machine learning algorithms"
      ],
      "metadata": {
        "id": "Mz4aBGnuqetH"
      }
    },
    {
      "cell_type": "code",
      "source": [
        "from sklearn.model_selection import train_test_split, GridSearchCV\n",
        "from sklearn.preprocessing import StandardScaler\n",
        "\n",
        "X = data.drop('Attrition', axis=1)\n",
        "y = data.Attrition\n",
        "\n",
        "X_train, X_test, y_train, y_test = train_test_split(X, y, test_size=0.3, random_state=42,\n",
        "                                                    stratify=y)\n",
        "\n",
        "scaler = StandardScaler()\n",
        "X_train_std = scaler.fit_transform(X_train)\n",
        "X_test_std = scaler.transform(X_test)\n",
        "X_std = scaler.transform(X)"
      ],
      "metadata": {
        "trusted": true,
        "id": "TdIPFjXVqetH"
      },
      "execution_count": null,
      "outputs": []
    },
    {
      "cell_type": "code",
      "source": [
        "def feature_imp(df, model):\n",
        "    fi = pd.DataFrame()\n",
        "    fi[\"feature\"] = df.columns\n",
        "    fi[\"importance\"] = model.feature_importances_\n",
        "    return fi.sort_values(by=\"importance\", ascending=False)"
      ],
      "metadata": {
        "trusted": true,
        "id": "-86CzhRMqetI"
      },
      "execution_count": null,
      "outputs": []
    },
    {
      "cell_type": "markdown",
      "source": [
        "## 🎯 What defines success?\n",
        "> We have an imbalanced data, so if we predict that all our employees will stay we'll have an accuracy of `83.90%`.\n"
      ],
      "metadata": {
        "id": "a53ovORHqetI"
      }
    },
    {
      "cell_type": "code",
      "source": [
        "y_test.value_counts()[0] / y_test.shape[0]"
      ],
      "metadata": {
        "trusted": true,
        "id": "4xsbZOewqetI"
      },
      "execution_count": null,
      "outputs": []
    },
    {
      "cell_type": "code",
      "source": [
        "stay = (y_train.value_counts()[0] / y_train.shape)[0]\n",
        "leave = (y_train.value_counts()[1] / y_train.shape)[0]\n",
        "\n",
        "print(\"===============TRAIN=================\")\n",
        "print(f\"Staying Rate: {stay * 100:.2f}%\")\n",
        "print(f\"Leaving Rate: {leave * 100 :.2f}%\")\n",
        "\n",
        "stay = (y_test.value_counts()[0] / y_test.shape)[0]\n",
        "leave = (y_test.value_counts()[1] / y_test.shape)[0]\n",
        "\n",
        "print(\"===============TEST=================\")\n",
        "print(f\"Staying Rate: {stay * 100:.2f}%\")\n",
        "print(f\"Leaving Rate: {leave * 100 :.2f}%\")"
      ],
      "metadata": {
        "trusted": true,
        "id": "QMvK5ASxqetI"
      },
      "execution_count": null,
      "outputs": []
    },
    {
      "cell_type": "code",
      "source": [
        "from sklearn.metrics import confusion_matrix, accuracy_score, classification_report, roc_auc_score\n",
        "\n",
        "def evaluate(model, X_train, X_test, y_train, y_test):\n",
        "    y_test_pred = model.predict(X_test)\n",
        "    y_train_pred = model.predict(X_train)\n",
        "\n",
        "    print(\"TRAINIG RESULTS: \\n===============================\")\n",
        "    clf_report = pd.DataFrame(classification_report(y_train, y_train_pred, output_dict=True))\n",
        "    print(f\"CONFUSION MATRIX:\\n{confusion_matrix(y_train, y_train_pred)}\")\n",
        "    print(f\"ACCURACY SCORE:\\n{accuracy_score(y_train, y_train_pred):.4f}\")\n",
        "    print(f\"CLASSIFICATION REPORT:\\n{clf_report}\")\n",
        "\n",
        "    print(\"TESTING RESULTS: \\n===============================\")\n",
        "    clf_report = pd.DataFrame(classification_report(y_test, y_test_pred, output_dict=True))\n",
        "    print(f\"CONFUSION MATRIX:\\n{confusion_matrix(y_test, y_test_pred)}\")\n",
        "    print(f\"ACCURACY SCORE:\\n{accuracy_score(y_test, y_test_pred):.4f}\")\n",
        "    print(f\"CLASSIFICATION REPORT:\\n{clf_report}\")"
      ],
      "metadata": {
        "trusted": true,
        "id": "O5RpPeQvqetI"
      },
      "execution_count": null,
      "outputs": []
    },
    {
      "cell_type": "markdown",
      "source": [
        "## ✔️ Logistic Regression"
      ],
      "metadata": {
        "id": "qb7N0Dc_qetI"
      }
    },
    {
      "cell_type": "code",
      "source": [
        "from sklearn.linear_model import LogisticRegression\n",
        "\n",
        "lr_clf = LogisticRegression(solver='liblinear', penalty='l1')\n",
        "lr_clf.fit(X_train_std, y_train)\n",
        "\n",
        "evaluate(lr_clf, X_train_std, X_test_std, y_train, y_test)"
      ],
      "metadata": {
        "trusted": true,
        "id": "uv_JkpewqetI"
      },
      "execution_count": null,
      "outputs": []
    },
    {
      "cell_type": "code",
      "source": [
        "from sklearn.metrics import precision_recall_curve, roc_curve\n",
        "\n",
        "def plot_precision_recall_vs_threshold(precisions, recalls, thresholds):\n",
        "    plt.plot(thresholds, precisions[:-1], \"b--\", label=\"Precision\")\n",
        "    plt.plot(thresholds, recalls[:-1], \"g--\", label=\"Recall\")\n",
        "    plt.xlabel(\"Threshold\")\n",
        "    plt.legend(loc=\"upper left\")\n",
        "    plt.title(\"Precision/Recall Tradeoff\")\n",
        "\n",
        "\n",
        "def plot_roc_curve(fpr, tpr, label=None):\n",
        "    plt.plot(fpr, tpr, linewidth=2, label=label)\n",
        "    plt.plot([0, 1], [0, 1], \"k--\")\n",
        "    plt.axis([0, 1, 0, 1])\n",
        "    plt.xlabel('False Positive Rate')\n",
        "    plt.ylabel('True Positive Rate')\n",
        "    plt.title('ROC Curve')\n",
        "\n",
        "\n",
        "precisions, recalls, thresholds = precision_recall_curve(y_test, lr_clf.predict(X_test_std))\n",
        "plt.figure(figsize=(14, 25))\n",
        "plt.subplot(4, 2, 1)\n",
        "plot_precision_recall_vs_threshold(precisions, recalls, thresholds)\n",
        "\n",
        "plt.subplot(4, 2, 2)\n",
        "plt.plot(precisions, recalls)\n",
        "plt.xlabel(\"Precision\")\n",
        "plt.ylabel(\"Recall\")\n",
        "plt.title(\"PR Curve: precisions/recalls tradeoff\");\n",
        "\n",
        "plt.subplot(4, 2, 3)\n",
        "fpr, tpr, thresholds = roc_curve(y_test, lr_clf.predict(X_test_std))\n",
        "plot_roc_curve(fpr, tpr)"
      ],
      "metadata": {
        "trusted": true,
        "id": "PmKpDWEGqetJ"
      },
      "execution_count": null,
      "outputs": []
    },
    {
      "cell_type": "code",
      "source": [
        "scores_dict = {\n",
        "    'Logistic Regression': {\n",
        "        'Train': roc_auc_score(y_train, lr_clf.predict(X_train)),\n",
        "        'Test': roc_auc_score(y_test, lr_clf.predict(X_test)),\n",
        "    },\n",
        "}"
      ],
      "metadata": {
        "trusted": true,
        "id": "K-RtZatwqetJ"
      },
      "execution_count": null,
      "outputs": []
    },
    {
      "cell_type": "markdown",
      "source": [
        "## ✔️ Random Forest Classifier"
      ],
      "metadata": {
        "id": "QFf4sEg_qetJ"
      }
    },
    {
      "cell_type": "code",
      "source": [
        "from sklearn.ensemble import RandomForestClassifier\n",
        "\n",
        "rf_clf = RandomForestClassifier(n_estimators=100, bootstrap=False,\n",
        "#                                      class_weight={0:stay, 1:leave}\n",
        "                                    )\n",
        "rf_clf.fit(X_train, y_train)\n",
        "evaluate(rf_clf, X_train, X_test, y_train, y_test)"
      ],
      "metadata": {
        "trusted": true,
        "id": "nU3DOGVpqetJ"
      },
      "execution_count": null,
      "outputs": []
    },
    {
      "cell_type": "code",
      "source": [
        "param_grid = dict(\n",
        "    n_estimators= [100, 500, 900],\n",
        "    max_features= ['auto', 'sqrt'],\n",
        "    max_depth= [2, 3, 5, 10, 15, None],\n",
        "    min_samples_split= [2, 5, 10],\n",
        "    min_samples_leaf= [1, 2, 4],\n",
        "    bootstrap= [True, False]\n",
        ")\n",
        "\n",
        "rf_clf = RandomForestClassifier(random_state=42)\n",
        "search = GridSearchCV(rf_clf, param_grid=param_grid, scoring='roc_auc', cv=5, verbose=1, n_jobs=-1)\n",
        "search.fit(X_train, y_train)\n",
        "\n",
        "rf_clf = RandomForestClassifier(**search.best_params_, random_state=42)\n",
        "rf_clf.fit(X_train, y_train)\n",
        "evaluate(rf_clf, X_train, X_test, y_train, y_test)"
      ],
      "metadata": {
        "trusted": true,
        "id": "rUJyzWpsqetJ"
      },
      "execution_count": null,
      "outputs": []
    },
    {
      "cell_type": "code",
      "source": [
        "precisions, recalls, thresholds = precision_recall_curve(y_test, rf_clf.predict(X_test))\n",
        "plt.figure(figsize=(14, 25))\n",
        "plt.subplot(4, 2, 1)\n",
        "plot_precision_recall_vs_threshold(precisions, recalls, thresholds)\n",
        "\n",
        "plt.subplot(4, 2, 2)\n",
        "plt.plot(precisions, recalls)\n",
        "plt.xlabel(\"Precision\")\n",
        "plt.ylabel(\"Recall\")\n",
        "plt.title(\"PR Curve: precisions/recalls tradeoff\");\n",
        "\n",
        "plt.subplot(4, 2, 3)\n",
        "fpr, tpr, thresholds = roc_curve(y_test, rf_clf.predict(X_test))\n",
        "plot_roc_curve(fpr, tpr)"
      ],
      "metadata": {
        "trusted": true,
        "id": "dt650hBHqetJ"
      },
      "execution_count": null,
      "outputs": []
    },
    {
      "cell_type": "code",
      "source": [
        "scores_dict['Random Forest'] = {\n",
        "        'Train': roc_auc_score(y_train, rf_clf.predict(X_train)),\n",
        "        'Test': roc_auc_score(y_test, rf_clf.predict(X_test)),\n",
        "    }"
      ],
      "metadata": {
        "trusted": true,
        "id": "yzurluv0qetJ"
      },
      "execution_count": null,
      "outputs": []
    },
    {
      "cell_type": "code",
      "source": [
        "df = feature_imp(X, rf_clf)[:40]\n",
        "df.set_index('feature', inplace=True)\n",
        "df.plot(kind='barh', figsize=(10, 10))\n",
        "plt.title('Feature Importance according to Random Forest')"
      ],
      "metadata": {
        "trusted": true,
        "id": "sniq8rJjqetK"
      },
      "execution_count": null,
      "outputs": []
    },
    {
      "cell_type": "markdown",
      "source": [
        "## ✔️ Support Vector Machine"
      ],
      "metadata": {
        "id": "ROxnOQFhqetK"
      }
    },
    {
      "cell_type": "code",
      "source": [
        "from sklearn.svm import SVC\n",
        "\n",
        "svm_clf = SVC(kernel='linear')\n",
        "svm_clf.fit(X_train_std, y_train)\n",
        "\n",
        "evaluate(svm_clf, X_train_std, X_test_std, y_train, y_test)"
      ],
      "metadata": {
        "trusted": true,
        "id": "BgW7boubqetK"
      },
      "execution_count": null,
      "outputs": []
    },
    {
      "cell_type": "code",
      "source": [
        "svm_clf = SVC(random_state=42)\n",
        "\n",
        "param_grid = [\n",
        "    {'C': [1, 10, 100, 1000], 'kernel': ['linear']},\n",
        "    {'C': [1, 10, 100, 1000], 'gamma': [0.001, 0.0001], 'kernel': ['rbf']}\n",
        "]\n",
        "\n",
        "search = GridSearchCV(svm_clf, param_grid=param_grid, scoring='roc_auc', cv=3, refit=True, verbose=1)\n",
        "search.fit(X_train_std, y_train)"
      ],
      "metadata": {
        "trusted": true,
        "id": "Xe_xk52TqetK"
      },
      "execution_count": null,
      "outputs": []
    },
    {
      "cell_type": "code",
      "source": [
        "svm_clf = SVC(**search.best_params_)\n",
        "svm_clf.fit(X_train_std, y_train)\n",
        "\n",
        "evaluate(svm_clf, X_train_std, X_test_std, y_train, y_test)"
      ],
      "metadata": {
        "trusted": true,
        "id": "eJEUJYqGqetK"
      },
      "execution_count": null,
      "outputs": []
    },
    {
      "cell_type": "code",
      "source": [
        "precisions, recalls, thresholds = precision_recall_curve(y_test, svm_clf.predict(X_test_std))\n",
        "plt.figure(figsize=(14, 25))\n",
        "plt.subplot(4, 2, 1)\n",
        "plot_precision_recall_vs_threshold(precisions, recalls, thresholds)\n",
        "\n",
        "plt.subplot(4, 2, 2)\n",
        "plt.plot(precisions, recalls)\n",
        "plt.xlabel(\"Precision\")\n",
        "plt.ylabel(\"Recall\")\n",
        "plt.title(\"PR Curve: precisions/recalls tradeoff\");\n",
        "\n",
        "plt.subplot(4, 2, 3)\n",
        "fpr, tpr, thresholds = roc_curve(y_test, svm_clf.predict(X_test_std))\n",
        "plot_roc_curve(fpr, tpr)"
      ],
      "metadata": {
        "trusted": true,
        "id": "a5-iWNE0qetK"
      },
      "execution_count": null,
      "outputs": []
    },
    {
      "cell_type": "code",
      "source": [
        "scores_dict['Support Vector Machine'] = {\n",
        "        'Train': roc_auc_score(y_train, svm_clf.predict(X_train_std)),\n",
        "        'Test': roc_auc_score(y_test, svm_clf.predict(X_test_std)),\n",
        "    }"
      ],
      "metadata": {
        "trusted": true,
        "id": "gngvFg0FqetK"
      },
      "execution_count": null,
      "outputs": []
    },
    {
      "cell_type": "markdown",
      "source": [
        "## ✔️ XGBoost Classifier"
      ],
      "metadata": {
        "id": "yTPjzZFNqetL"
      }
    },
    {
      "cell_type": "code",
      "source": [
        "from xgboost import XGBClassifier\n",
        "\n",
        "xgb_clf = XGBClassifier()\n",
        "xgb_clf.fit(X_train, y_train)\n",
        "\n",
        "evaluate(xgb_clf, X_train, X_test, y_train, y_test)"
      ],
      "metadata": {
        "trusted": true,
        "id": "PDMu6otgqetL"
      },
      "execution_count": null,
      "outputs": []
    },
    {
      "cell_type": "code",
      "source": [
        "scores_dict['XGBoost'] = {\n",
        "        'Train': roc_auc_score(y_train, xgb_clf.predict(X_train)),\n",
        "        'Test': roc_auc_score(y_test, xgb_clf.predict(X_test)),\n",
        "    }"
      ],
      "metadata": {
        "trusted": true,
        "id": "FU4E4JjgqetL"
      },
      "execution_count": null,
      "outputs": []
    },
    {
      "cell_type": "code",
      "source": [
        "precisions, recalls, thresholds = precision_recall_curve(y_test, xgb_clf.predict(X_test))\n",
        "plt.figure(figsize=(14, 25))\n",
        "plt.subplot(4, 2, 1)\n",
        "plot_precision_recall_vs_threshold(precisions, recalls, thresholds)\n",
        "\n",
        "plt.subplot(4, 2, 2)\n",
        "plt.plot(precisions, recalls)\n",
        "plt.xlabel(\"Precision\")\n",
        "plt.ylabel(\"Recall\")\n",
        "plt.title(\"PR Curve: precisions/recalls tradeoff\");\n",
        "\n",
        "plt.subplot(4, 2, 3)\n",
        "fpr, tpr, thresholds = roc_curve(y_test, xgb_clf.predict(X_test))\n",
        "plot_roc_curve(fpr, tpr)"
      ],
      "metadata": {
        "trusted": true,
        "id": "-7OB8mjtqetL"
      },
      "execution_count": null,
      "outputs": []
    },
    {
      "cell_type": "code",
      "source": [
        "df = feature_imp(X, xgb_clf)[:35]\n",
        "df.set_index('feature', inplace=True)\n",
        "df.plot(kind='barh', figsize=(10, 8))\n",
        "plt.title('Feature Importance according to XGBoost')"
      ],
      "metadata": {
        "trusted": true,
        "id": "yphxVUv5qetL"
      },
      "execution_count": null,
      "outputs": []
    },
    {
      "cell_type": "markdown",
      "source": [
        "## ✔️ LightGBM"
      ],
      "metadata": {
        "id": "F1qh9JsXqetL"
      }
    },
    {
      "cell_type": "code",
      "source": [
        "from lightgbm import LGBMClassifier\n",
        "\n",
        "lgb_clf = LGBMClassifier()\n",
        "lgb_clf.fit(X_train, y_train)\n",
        "\n",
        "evaluate(lgb_clf, X_train, X_test, y_train, y_test)"
      ],
      "metadata": {
        "trusted": true,
        "id": "E_gCVvBTqetM"
      },
      "execution_count": null,
      "outputs": []
    },
    {
      "cell_type": "code",
      "source": [
        "precisions, recalls, thresholds = precision_recall_curve(y_test, lgb_clf.predict(X_test))\n",
        "plt.figure(figsize=(14, 25))\n",
        "plt.subplot(4, 2, 1)\n",
        "plot_precision_recall_vs_threshold(precisions, recalls, thresholds)\n",
        "\n",
        "plt.subplot(4, 2, 2)\n",
        "plt.plot(precisions, recalls)\n",
        "plt.xlabel(\"Precision\")\n",
        "plt.ylabel(\"Recall\")\n",
        "plt.title(\"PR Curve: precisions/recalls tradeoff\");\n",
        "\n",
        "plt.subplot(4, 2, 3)\n",
        "fpr, tpr, thresholds = roc_curve(y_test, lgb_clf.predict(X_test))\n",
        "plot_roc_curve(fpr, tpr)"
      ],
      "metadata": {
        "trusted": true,
        "id": "DfwXJ-RoqetM"
      },
      "execution_count": null,
      "outputs": []
    },
    {
      "cell_type": "code",
      "source": [
        "scores_dict['LightGBM'] = {\n",
        "        'Train': roc_auc_score(y_train, lgb_clf.predict(X_train)),\n",
        "        'Test': roc_auc_score(y_test, lgb_clf.predict(X_test)),\n",
        "    }"
      ],
      "metadata": {
        "trusted": true,
        "id": "usxzYM_BqetM"
      },
      "execution_count": null,
      "outputs": []
    },
    {
      "cell_type": "markdown",
      "source": [
        "## ✔️ CatBoost"
      ],
      "metadata": {
        "id": "rf9Iz64rqetM"
      }
    },
    {
      "cell_type": "code",
      "source": [
        "from catboost import CatBoostClassifier\n",
        "\n",
        "cb_clf = CatBoostClassifier()\n",
        "cb_clf.fit(X_train, y_train, verbose=0)\n",
        "\n",
        "evaluate(cb_clf, X_train, X_test, y_train, y_test)"
      ],
      "metadata": {
        "trusted": true,
        "id": "7I2Wa0oyqetM"
      },
      "execution_count": null,
      "outputs": []
    },
    {
      "cell_type": "code",
      "source": [
        "precisions, recalls, thresholds = precision_recall_curve(y_test, cb_clf.predict(X_test))\n",
        "plt.figure(figsize=(14, 25))\n",
        "plt.subplot(4, 2, 1)\n",
        "plot_precision_recall_vs_threshold(precisions, recalls, thresholds)\n",
        "\n",
        "plt.subplot(4, 2, 2)\n",
        "plt.plot(precisions, recalls)\n",
        "plt.xlabel(\"Precision\")\n",
        "plt.ylabel(\"Recall\")\n",
        "plt.title(\"PR Curve: precisions/recalls tradeoff\");\n",
        "\n",
        "plt.subplot(4, 2, 3)\n",
        "fpr, tpr, thresholds = roc_curve(y_test, cb_clf.predict(X_test))\n",
        "plot_roc_curve(fpr, tpr)"
      ],
      "metadata": {
        "trusted": true,
        "id": "eFPonIMnqetM"
      },
      "execution_count": null,
      "outputs": []
    },
    {
      "cell_type": "code",
      "source": [
        "scores_dict['CatBoost'] = {\n",
        "        'Train': roc_auc_score(y_train, cb_clf.predict(X_train)),\n",
        "        'Test': roc_auc_score(y_test, cb_clf.predict(X_test)),\n",
        "    }"
      ],
      "metadata": {
        "trusted": true,
        "id": "x1X6ApeYqetM"
      },
      "execution_count": null,
      "outputs": []
    },
    {
      "cell_type": "markdown",
      "source": [
        "## ✔️ AdaBoost"
      ],
      "metadata": {
        "id": "vHnJlznpqetN"
      }
    },
    {
      "cell_type": "code",
      "source": [
        "from sklearn.ensemble import AdaBoostClassifier\n",
        "\n",
        "ab_clf = AdaBoostClassifier()\n",
        "ab_clf.fit(X_train, y_train)\n",
        "\n",
        "evaluate(ab_clf, X_train, X_test, y_train, y_test)"
      ],
      "metadata": {
        "trusted": true,
        "id": "qsrZVzuFqetN"
      },
      "execution_count": null,
      "outputs": []
    },
    {
      "cell_type": "code",
      "source": [
        "precisions, recalls, thresholds = precision_recall_curve(y_test, ab_clf.predict(X_test))\n",
        "plt.figure(figsize=(14, 25))\n",
        "plt.subplot(4, 2, 1)\n",
        "plot_precision_recall_vs_threshold(precisions, recalls, thresholds)\n",
        "\n",
        "plt.subplot(4, 2, 2)\n",
        "plt.plot(precisions, recalls)\n",
        "plt.xlabel(\"Precision\")\n",
        "plt.ylabel(\"Recall\")\n",
        "plt.title(\"PR Curve: precisions/recalls tradeoff\");\n",
        "\n",
        "plt.subplot(4, 2, 3)\n",
        "fpr, tpr, thresholds = roc_curve(y_test, ab_clf.predict(X_test))\n",
        "plot_roc_curve(fpr, tpr)"
      ],
      "metadata": {
        "trusted": true,
        "id": "-ymtZE4rqetN"
      },
      "execution_count": null,
      "outputs": []
    },
    {
      "cell_type": "code",
      "source": [
        "scores_dict['AdaBoost'] = {\n",
        "        'Train': roc_auc_score(y_train, ab_clf.predict(X_train)),\n",
        "        'Test': roc_auc_score(y_test, ab_clf.predict(X_test)),\n",
        "    }"
      ],
      "metadata": {
        "trusted": true,
        "id": "86CmOUhQqetN"
      },
      "execution_count": null,
      "outputs": []
    },
    {
      "cell_type": "markdown",
      "source": [
        "# 🎯 Comparing Models Prerformance 📊"
      ],
      "metadata": {
        "id": "ZoT6BTJWqetN"
      }
    },
    {
      "cell_type": "code",
      "source": [
        "ml_models = {\n",
        "    'Random Forest': rf_clf,\n",
        "    'XGBoost': xgb_clf,\n",
        "    'Logistic Regression': lr_clf,\n",
        "    'Support Vector Machine': svm_clf,\n",
        "    'LightGBM': lgb_clf,\n",
        "    'CatBoost': cb_clf,\n",
        "    'AdaBoost': ab_clf\n",
        "}\n",
        "\n",
        "for model in ml_models:\n",
        "    print(f\"{model.upper():{30}} roc_auc_score: {roc_auc_score(y_test, ml_models[model].predict(X_test)):.3f}\")"
      ],
      "metadata": {
        "trusted": true,
        "id": "XwQzk6ZzqetN"
      },
      "execution_count": null,
      "outputs": []
    },
    {
      "cell_type": "code",
      "source": [
        "scores_df = pd.DataFrame(scores_dict)\n",
        "# scores_df.plot(kind='barh', figsize=(15, 8))\n",
        "scores_df.hvplot.barh()"
      ],
      "metadata": {
        "trusted": true,
        "id": "6ktqauS5qetN"
      },
      "execution_count": null,
      "outputs": []
    }
  ]
}